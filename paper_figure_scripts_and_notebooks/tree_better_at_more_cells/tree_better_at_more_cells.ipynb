{
 "cells": [
  {
   "cell_type": "code",
   "execution_count": null,
   "id": "43c6c9c3-195c-4053-a6ff-59d40727ae0c",
   "metadata": {},
   "outputs": [],
   "source": [
    "import subprocess\n",
    "import os, sys\n",
    "from IPython.display import Image, display\n",
    "import logging\n",
    "\n",
    "FORMAT = '%(asctime)s %(name)s %(funcName)s %(message)s'\n",
    "log_level = logging.WARNING\n",
    "logging.basicConfig(format=FORMAT, datefmt='%H:%M:%S',\n",
    "                    level=log_level)"
   ]
  },
  {
   "cell_type": "code",
   "execution_count": null,
   "id": "e277807d-6514-44bb-b734-c1a4f73bd8f6",
   "metadata": {},
   "outputs": [],
   "source": [
    "SIMULATE_DATASET = False\n",
    "BONSAI = False\n",
    "VISUALIZE = True"
   ]
  },
  {
   "cell_type": "code",
   "execution_count": null,
   "id": "1e64a911-2e35-4896-b84b-68949aef695e",
   "metadata": {},
   "outputs": [],
   "source": [
    "bonsai_path = '/scicore/home/nimwegen/degroo0000/Bonsai-data-representation'\n",
    "simulation_path = os.path.join(bonsai_path, 'paper_figure_scripts_and_notebooks/simulating_datasets/simulate_equidistant_cells_diff_dims_cleaned.py')\n",
    "run_bonsai_several_path = os.path.join(bonsai_path, 'paper_figure_scripts_and_notebooks/simulating_datasets/analyzing_simulated_datasets/run_bonsai_several_times_cleaned.py')\n",
    "visualize_path = os.path.join(bonsai_path, 'paper_figure_scripts_and_notebooks/simulating_datasets/analyzing_simulated_datasets/SFig2_accuracy_increases_with_cells.py')\n",
    "\n",
    "sys.path.append(bonsai_path)\n",
    "os.chdir(bonsai_path)"
   ]
  },
  {
   "cell_type": "markdown",
   "id": "f6fc0bac-34a2-4fef-a8fe-759b84f670f4",
   "metadata": {},
   "source": [
    "## Define arguments:"
   ]
  },
  {
   "cell_type": "code",
   "execution_count": null,
   "id": "1c722d1c-1dc9-4f74-9034-47c5bb534e32",
   "metadata": {},
   "outputs": [],
   "source": [
    "num_dims = '100'\n",
    "n_sampled_clsts = '100'\n",
    "n_cells_per_clst = '1,2,5,10,20'\n",
    "seed = '1231'\n",
    "noise_var = '2.5'"
   ]
  },
  {
   "cell_type": "markdown",
   "id": "c087cbdd-c007-451f-8a27-5ce43df3805c",
   "metadata": {},
   "source": [
    "## Run the different steps"
   ]
  },
  {
   "cell_type": "code",
   "execution_count": null,
   "id": "e0c1f763-bae1-44c0-aa25-90e987b97355",
   "metadata": {},
   "outputs": [],
   "source": [
    "if SIMULATE_DATASET:\n",
    "    command1 = [simulation_path,\n",
    "                '--input_dataset',\n",
    "                'examples/example_data/baron.hdf',\n",
    "                '--results_folder',\n",
    "                'data/simulated_datasets/simulated_equidistant_test',\n",
    "                '--num_dims',\n",
    "                num_dims,\n",
    "                '--n_sampled_clsts',\n",
    "                n_sampled_clsts,\n",
    "                '--n_cells_per_clst',\n",
    "                n_cells_per_clst,\n",
    "                '--random_times',\n",
    "                'True',\n",
    "                '--sample_umi_counts',\n",
    "                'False',\n",
    "                '--add_noise',\n",
    "                'True',\n",
    "                '--noise_var',\n",
    "                noise_var,\n",
    "                '--seed',\n",
    "                seed]\n",
    "    output1 = subprocess.run([sys.executable] + command1, stdout=subprocess.PIPE, text=True)\n",
    "    # output1 = subprocess.run(command1, stdout=subprocess.PIPE, text=True)\n",
    "    print(output1.stdout)\n",
    "    print(output1.stderr)"
   ]
  },
  {
   "cell_type": "code",
   "execution_count": null,
   "id": "541c196a-f61c-476d-b7c8-f355bc801309",
   "metadata": {
    "scrolled": true
   },
   "outputs": [],
   "source": [
    "if BONSAI:\n",
    "    command1 = [run_bonsai_several_path,\n",
    "                '--input_folder',\n",
    "                'data/simulated_datasets/simulated_equidistant_test',\n",
    "                '--results_folder',\n",
    "                'results/simulated_datasets/simulated_equidistant_test',\n",
    "                '--num_dims',\n",
    "                num_dims,\n",
    "                '--n_sampled_clsts',\n",
    "                n_sampled_clsts,\n",
    "                '--n_cells_per_clst',\n",
    "                n_cells_per_clst,\n",
    "                '--random_times',\n",
    "                'True',\n",
    "                '--sample_umi_counts',\n",
    "                'False',\n",
    "                '--add_noise',\n",
    "                'True',\n",
    "                '--noise_var',\n",
    "                noise_var,\n",
    "                '--seed',\n",
    "                seed]\n",
    "    output1 = subprocess.run(['/scicore/home/nimwegen/degroo0000/miniconda3/envs/bonsai_ubuntu/bin/python'] + command1, capture_output=True, text=True)\n",
    "    # output1 = subprocess.run(['/scicore/home/nimwegen/degroo0000/miniconda3/envs/bonsai_ubuntu/bin/python'] + command1, stdout=subprocess.PIPE, text=True)\n",
    "    print(output1.stdout)\n",
    "    print(output1.stderr)"
   ]
  },
  {
   "cell_type": "code",
   "execution_count": null,
   "id": "2d4450e0-a963-4c65-bd61-373b8a00cd77",
   "metadata": {},
   "outputs": [],
   "source": [
    "if VISUALIZE:\n",
    "    command1 = [visualize_path,\n",
    "                '--input_folder',\n",
    "                'data/simulated_datasets/simulated_equidistant_test',\n",
    "                '--results_folder',\n",
    "                'results/simulated_datasets/simulated_equidistant_test',\n",
    "                '--num_dims',\n",
    "                num_dims,\n",
    "                '--n_sampled_clsts',\n",
    "                n_sampled_clsts,\n",
    "                '--n_cells_per_clst',\n",
    "                n_cells_per_clst,\n",
    "                '--random_times',\n",
    "                'True',\n",
    "                '--sample_umi_counts',\n",
    "                'False',\n",
    "                '--add_noise',\n",
    "                'True',\n",
    "                '--noise_var',\n",
    "                noise_var,\n",
    "                '--seed',\n",
    "                seed,\n",
    "                '--recalculate',\n",
    "                'True']\n",
    "    output1 = subprocess.run([sys.executable] + command1, capture_output=True, text=True)\n",
    "    # output1 = subprocess.run(['/scicore/home/nimwegen/degroo0000/miniconda3/envs/bonsai_ubuntu/bin/python'] + command1, stdout=subprocess.PIPE, text=True)\n",
    "    print(output1.stdout)\n",
    "    print(output1.stderr)"
   ]
  },
  {
   "cell_type": "code",
   "execution_count": null,
   "id": "7bb4a791-0ce2-4e38-bc04-8208fc2403f2",
   "metadata": {},
   "outputs": [],
   "source": [
    "import re\n",
    "if VISUALIZE:\n",
    "    match = re.search(r\"Stored the png-figure at (.+?\\.png)\", output1.stdout)\n",
    "    if match:\n",
    "        png_path = match.group(1)\n",
    "        print(png_path)\n",
    "        display(Image(filename=png_path))"
   ]
  },
  {
   "cell_type": "code",
   "execution_count": null,
   "id": "45962c49-3bc9-48d6-88c7-70035eba04e6",
   "metadata": {},
   "outputs": [],
   "source": []
  }
 ],
 "metadata": {
  "kernelspec": {
   "display_name": "Python (bonsai_analysis)",
   "language": "python",
   "name": "bonsai_analysis"
  },
  "language_info": {
   "codemirror_mode": {
    "name": "ipython",
    "version": 3
   },
   "file_extension": ".py",
   "mimetype": "text/x-python",
   "name": "python",
   "nbconvert_exporter": "python",
   "pygments_lexer": "ipython3",
   "version": "3.9.19"
  }
 },
 "nbformat": 4,
 "nbformat_minor": 5
}
