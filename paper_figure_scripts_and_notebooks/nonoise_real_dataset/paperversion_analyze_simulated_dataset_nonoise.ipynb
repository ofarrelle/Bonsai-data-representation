{
 "cells": [
  {
   "cell_type": "code",
   "execution_count": null,
   "id": "8f57dfb8-b04b-4e94-92f1-879a664886d2",
   "metadata": {},
   "outputs": [],
   "source": [
    "import numpy as np\n",
    "import pandas as pd\n",
    "import sys, os\n",
    "import csv\n",
    "from pathlib import Path\n",
    "from natsort import natsorted\n",
    "sys.path.append('/scicore/home/nimwegen/degroo0000/Bonsai-data-representation')\n",
    "from scipy.spatial import distance\n",
    "import matplotlib.pyplot as plt\n",
    "from paper_figure_scripts_and_notebooks.simulating_datasets.analyzing_simulated_datasets.knn_recall_helpers import get_pdists_on_tree, Dataset, compare_pdists_to_truth_per_cell, do_pca, fit_umap\n",
    "from scipy.spatial.distance import squareform\n",
    "import logging\n",
    "logging.getLogger(\"umap\").disabled = True\n",
    "log_level = logging.ERROR\n",
    "FORMAT = '%(asctime)s %(name)s %(funcName)s %(message)s'\n",
    "logging.basicConfig(format=FORMAT, datefmt='%H:%M:%S',\n",
    "                    level=log_level)\n",
    "plt.set_loglevel(level='warning')"
   ]
  },
  {
   "cell_type": "code",
   "execution_count": null,
   "id": "ad2e3eec-3574-4566-a697-2a452b1b83d7",
   "metadata": {},
   "outputs": [],
   "source": [
    "\"\"\"--------------------Layout settings----------------------\"\"\"\n",
    "SMALL_SIZE = 9\n",
    "MEDIUM_SIZE = 11\n",
    "BIGGER_SIZE = 13\n",
    "\n",
    "plt.rc('font', size=SMALL_SIZE)  # controls default text sizes\n",
    "plt.rc('axes', titlesize=MEDIUM_SIZE)  # fontsize of the axes title\n",
    "plt.rc('axes', labelsize=MEDIUM_SIZE)  # fontsize of the x and y labels\n",
    "plt.rc('xtick', labelsize=SMALL_SIZE)  # fontsize of the tick labels\n",
    "plt.rc('ytick', labelsize=SMALL_SIZE)  # fontsize of the tick labels\n",
    "plt.rc('legend', fontsize=SMALL_SIZE)  # legend fontsize\n",
    "plt.rc('figure', titlesize=BIGGER_SIZE)  # fontsize of the figure title"
   ]
  },
  {
   "cell_type": "markdown",
   "id": "79f5be81-3f27-4505-bc6b-e1bad2fd1502",
   "metadata": {},
   "source": [
    "### Get list of datasets and prepare dictionaries to hold data"
   ]
  },
  {
   "cell_type": "code",
   "execution_count": null,
   "id": "2437b452-f81f-4e82-adbc-c62eca106616",
   "metadata": {},
   "outputs": [],
   "source": [
    "base_folder = '/scicore/home/nimwegen/degroo0000/Bonsai-data-representation/slurm_runs_pipeline/output/no_noise_simulated'\n",
    "poss_datasets = os.listdir(base_folder)\n",
    "all_datasets = []\n",
    "for dataset in poss_datasets:\n",
    "    if os.path.exists(os.path.join(base_folder,dataset,'bonsai')):\n",
    "        bonsai_folders = os.listdir(os.path.join(base_folder,dataset,'bonsai'))\n",
    "        if any(s.startswith(\"final_bonsai\") for s in bonsai_folders):\n",
    "            all_datasets.append(dataset)\n",
    "n_datasets = len(all_datasets)\n",
    "print(\"We've got {} datasets.\".format(n_datasets))"
   ]
  },
  {
   "cell_type": "code",
   "execution_count": null,
   "id": "84ba0edc-e10c-48da-8fe7-85326e2bc761",
   "metadata": {},
   "outputs": [],
   "source": [
    "type_suffix = 'zscoregenesnosampling'"
   ]
  },
  {
   "cell_type": "code",
   "execution_count": null,
   "id": "36792e6f-3936-49d0-8fa5-8cd9b48e777a",
   "metadata": {},
   "outputs": [],
   "source": [
    "gene_numbers = [10, 100, 1000, 10000]\n",
    "cell_numbers = [1000]"
   ]
  },
  {
   "cell_type": "code",
   "execution_count": null,
   "id": "d98dd7e0-8774-4f57-aba6-a05e12873d31",
   "metadata": {},
   "outputs": [],
   "source": [
    "datasets = []\n",
    "for ind_dataset, dataset in enumerate(all_datasets):\n",
    "    split_dataset = dataset.split('_')\n",
    "    if split_dataset[-1] != type_suffix:\n",
    "        continue\n",
    "    else:\n",
    "        nCell = split_dataset[-2]\n",
    "        nGene = split_dataset[-3]\n",
    "    n_cell = int(nCell[5:])\n",
    "    n_gene = int(nGene[5:])\n",
    "    if (n_cell not in cell_numbers) or (n_gene not in gene_numbers):\n",
    "        continue\n",
    "    print(nCell, nGene)\n",
    "    datasets.append(dataset)\n",
    "datasets = natsorted(datasets)\n",
    "n_datasets = len(datasets)\n",
    "print(\"We've got {} datasets.\".format(n_datasets))"
   ]
  },
  {
   "cell_type": "code",
   "execution_count": null,
   "id": "bee629f8-e7a9-4962-bf57-1791e2162a2f",
   "metadata": {},
   "outputs": [],
   "source": [
    "if n_datasets > 10:\n",
    "    tab20 = plt.get_cmap(\"tab20\")\n",
    "else:\n",
    "    tab20 = plt.get_cmap(\"tab10\")\n",
    "colors = [tab20(i) for i in range(n_datasets)]"
   ]
  },
  {
   "cell_type": "code",
   "execution_count": null,
   "id": "2fb5646c-cf77-4c11-807f-7b9fdb250a49",
   "metadata": {},
   "outputs": [],
   "source": [
    "info_dss = {}\n",
    "for ind_dataset, dataset in enumerate(datasets):\n",
    "    split_dataset = dataset.split('_')\n",
    "    if split_dataset[-1] != type_suffix:\n",
    "        continue\n",
    "    else:\n",
    "        nCell = split_dataset[-2]\n",
    "        nGene = split_dataset[-3]\n",
    "    print(nCell, nGene)\n",
    "    n_cell = int(nCell[5:])\n",
    "    n_gene = int(nGene[5:])\n",
    "    if (n_cell not in cell_numbers) or (n_gene not in gene_numbers):\n",
    "        continue\n",
    "    dataset_dict = {'n_cell': n_cell, 'n_gene': n_gene, \n",
    "                    'plt_coords': (gene_numbers.index(n_gene), cell_numbers.index(n_cell)), \n",
    "                    'color': colors[ind_dataset], 'index': ind_dataset, 'dataset_path': os.path.join(base_folder,dataset)}\n",
    "    info_dss[dataset] = dataset_dict"
   ]
  },
  {
   "cell_type": "code",
   "execution_count": null,
   "id": "826d7832-4d57-4ef9-a8d3-2775f20db39c",
   "metadata": {},
   "outputs": [],
   "source": [
    "pdists_true_dss = {dataset: None for dataset in datasets}\n",
    "pdists_inferred_dss = {dataset: None for dataset in datasets}"
   ]
  },
  {
   "cell_type": "markdown",
   "id": "54884f3d-e942-43d3-acb7-b5ef440e2eba",
   "metadata": {},
   "source": [
    "### Create function to get a many-time use fig, ax combination"
   ]
  },
  {
   "cell_type": "code",
   "execution_count": null,
   "id": "411232de-f877-45b9-b080-6db321351d72",
   "metadata": {},
   "outputs": [],
   "source": [
    "def get_fig_ax(xlabel=None, ylabel=None, title=None, sharex=None, sharey=None):\n",
    "    # ncols = np.minimum(int(np.ceil(np.sqrt(n_datasets))),4)\n",
    "    # nrows = int(np.ceil(n_datasets/ncols))\n",
    "    # fig, axs = plt.subplots(ncols=ncols, nrows=nrows, figsize=(ncols*4, nrows*3))\n",
    "    fig, axs = plt.subplots(ncols=len(cell_numbers), nrows=len(gene_numbers), \n",
    "                            figsize=(len(cell_numbers)*4, len(gene_numbers)*3), \n",
    "                            sharex=sharex, sharey=sharey)\n",
    "    axs_flat = axs.flatten()\n",
    "    for ax in axs.flat:\n",
    "        ax.tick_params(axis='x', which='both', labelbottom=True)\n",
    "        ax.tick_params(axis='y', which='both', labelleft=True)\n",
    "    \n",
    "    for ind_ds, dataset in enumerate(datasets):\n",
    "        info = info_dss[dataset]\n",
    "        ax_row, ax_col = info['plt_coords']\n",
    "        if len(cell_numbers) == 1:\n",
    "            ax = axs[ax_row]\n",
    "        else:\n",
    "            ax = axs[ax_row, ax_col]\n",
    "        ax.set_title('|C| = {}, |G| = {}'.format(info['n_cell'], info['n_gene']))\n",
    "\n",
    "    for ax_row in range(len(gene_numbers)):\n",
    "        for ax_col in range(len(cell_numbers)):\n",
    "            if len(cell_numbers) == 1:\n",
    "                ax = axs[ax_row]\n",
    "            else:\n",
    "                ax = axs[ax_row, ax_col]\n",
    "            if (xlabel is not None) and (ax_row == (len(gene_numbers)-1)):\n",
    "                ax.set_xlabel(xlabel)\n",
    "            if (ylabel is not None)  and (ax_col == 0):\n",
    "                ax.set_ylabel(ylabel)\n",
    "    if title is not None:\n",
    "        fig.suptitle(title)\n",
    "    \n",
    "    return fig, axs"
   ]
  },
  {
   "cell_type": "markdown",
   "id": "467e8244-7d07-49fd-a585-aed334b55126",
   "metadata": {},
   "source": [
    "### First get pairwise distances of ground truth data"
   ]
  },
  {
   "cell_type": "code",
   "execution_count": null,
   "id": "a9dd4a37-eb1a-4b9f-8a80-1424a8f7217f",
   "metadata": {},
   "outputs": [],
   "source": [
    "output_folder_dss = {}\n",
    "for dataset in datasets:\n",
    "    sanity_folder = os.path.join(base_folder, dataset, 'Sanity')\n",
    "    true_deltas = pd.read_csv(os.path.join(sanity_folder, 'delta_vmax.txt'), sep='\\t', header=None).values.astype(dtype=float)\n",
    "    output_folder = os.path.join(base_folder, dataset)\n",
    "    output_folder_dss[dataset] = output_folder\n",
    "    Path(os.path.join(output_folder, 'intermediate_files')).mkdir(parents=True, exist_ok=True)\n",
    "    num_dims = true_deltas.shape[0]\n",
    "    true_dists = distance.pdist(true_deltas.T, metric='sqeuclidean') / num_dims\n",
    "    pdists_true_dss[dataset] = true_dists\n",
    "    np.save(os.path.join(output_folder, 'intermediate_files', 'delta_true_pdists.npy'), true_dists,\n",
    "                allow_pickle=False)"
   ]
  },
  {
   "cell_type": "code",
   "execution_count": null,
   "id": "0d51830f-e4a7-4b3f-958d-00c2fc07cab6",
   "metadata": {},
   "outputs": [],
   "source": [
    "fig, axs = get_fig_ax(xlabel='Squared Eucl. dist.', ylabel='Number of cell-cell pairs', title='True pairwise distances', sharex=True, sharey='col')\n",
    "\n",
    "# Visualize the true distances\n",
    "for ind_ds, dataset in enumerate(datasets):\n",
    "    info = info_dss[dataset]\n",
    "    ax_row, ax_col = info['plt_coords']\n",
    "    print(dataset)\n",
    "    if len(cell_numbers) == 1:\n",
    "        ax = axs[ax_row]\n",
    "    else:\n",
    "        ax = axs[ax_row, ax_col]\n",
    "    ax.hist(pdists_true_dss[dataset], bins=100, color=info['color'], log=True)\n",
    "plt.tight_layout()"
   ]
  },
  {
   "cell_type": "markdown",
   "id": "0bfeb8a3-6e48-46e5-a3be-c24f16482ef7",
   "metadata": {},
   "source": [
    "### Then get inferred pairwise distances by getting summed branch lengths"
   ]
  },
  {
   "cell_type": "code",
   "execution_count": null,
   "id": "07e66861-dc60-4fff-887d-24de48c0e26b",
   "metadata": {},
   "outputs": [],
   "source": [
    "# I first need the cell IDs, and paths to the newick files\n",
    "cell_ids_dss = {}\n",
    "for dataset in datasets:\n",
    "    info = info_dss[dataset]\n",
    "    cell_id_path = os.path.join(info['dataset_path'], 'Sanity', 'cellID.txt')\n",
    "    cell_ids = []\n",
    "    with open(cell_id_path, 'r') as f:\n",
    "        reader = csv.reader(f, delimiter='\\t')\n",
    "        for row in reader:\n",
    "            cell_ids.append(row[0])\n",
    "    cell_ids_dss[dataset] = cell_ids\n",
    "\n",
    "    for bonsai_folder in os.listdir(os.path.join(info['dataset_path'],'bonsai')):\n",
    "        if bonsai_folder.startswith('final_bonsai'):\n",
    "            info['bonsai_path'] = os.path.join(info['dataset_path'],'bonsai', bonsai_folder)"
   ]
  },
  {
   "cell_type": "code",
   "execution_count": null,
   "id": "3f8e300d-c342-44fc-85d9-b2c63d67cdec",
   "metadata": {},
   "outputs": [],
   "source": [
    "bonsai_dists_dss = {}\n",
    "for ind_dataset, dataset in enumerate(datasets):\n",
    "    output_folder = output_folder_dss[dataset]\n",
    "    info = info_dss[dataset]\n",
    "    print(dataset)\n",
    "    nwk_path = os.path.join(info['bonsai_path'], 'tree.nwk')\n",
    "    bonsai_dists = get_pdists_on_tree(nwk_path, cell_ids_dss[dataset])\n",
    "    bonsai_dists_dss[dataset] = bonsai_dists\n",
    "    np.save(os.path.join(output_folder, 'intermediate_files', 'bonsai_pdists.npy'), bonsai_dists,\n",
    "                allow_pickle=False)"
   ]
  },
  {
   "cell_type": "code",
   "execution_count": null,
   "id": "ce22e222-6aaa-4e31-8f12-d1a7abb0911b",
   "metadata": {},
   "outputs": [],
   "source": [
    "fig, axs = get_fig_ax(xlabel='Bonsai dist.', ylabel='Number of cell-cell pairs', title='Bonsai distances', sharex=True, sharey='col')\n",
    "\n",
    "# Visualize the true distances\n",
    "for ind_ds, dataset in enumerate(datasets):\n",
    "    info = info_dss[dataset]\n",
    "    if len(cell_numbers) == 1:\n",
    "        ax = axs[ax_row]\n",
    "    else:\n",
    "        ax = axs[ax_row, ax_col]\n",
    "    ax_row, ax_col = info['plt_coords']\n",
    "    if len(cell_numbers) == 1:\n",
    "        ax = axs[ax_row]\n",
    "    else:\n",
    "        ax = axs[ax_row, ax_col]\n",
    "    ax.hist(bonsai_dists_dss[dataset], bins=100, color=info['color'], log=True)\n",
    "plt.tight_layout()"
   ]
  },
  {
   "cell_type": "markdown",
   "id": "a7e7c529-669a-46e8-8b1c-ae0bc9a5b3a8",
   "metadata": {},
   "source": [
    "### Create comparison plot, true vs pairwise distance"
   ]
  },
  {
   "cell_type": "code",
   "execution_count": null,
   "id": "4d600d10-72a5-4603-8965-163d78b4c24f",
   "metadata": {},
   "outputs": [],
   "source": [
    "bonsai_objcts_dss = {}\n",
    "for dataset in datasets:\n",
    "    print(\"\\n\\nTreating dataset {}\\n\".format(dataset))\n",
    "    info = info_dss[dataset]\n",
    "    ax_row, ax_col = info['plt_coords']\n",
    "    if len(cell_numbers) == 1:\n",
    "        ax = axs[ax_row]\n",
    "    else:\n",
    "        ax = axs[ax_row, ax_col]\n",
    "    true_dists = pdists_true_dss[dataset]\n",
    "    bonsai_dists = bonsai_dists_dss[dataset]\n",
    "\n",
    "    true_objct = Dataset(distances=true_dists, data_type='delta_true', data_id='delta_true')\n",
    "    data_id = dataset\n",
    "    bonsai_objct = Dataset(distances=bonsai_dists, data_type='bonsai', data_id=data_id)\n",
    "    fig_fake, ax_fake = plt.subplots()\n",
    "    avg_rel_diffs, R_vals = compare_pdists_to_truth_per_cell([true_objct, bonsai_objct], \n",
    "                                                             make_fig=True, axs=ax, \n",
    "                                                             set_lims=False, return_Rvals=True, \n",
    "                                                             loglog_corr=False)\n",
    "    bonsai_objcts_dss[dataset] = bonsai_objct"
   ]
  },
  {
   "cell_type": "markdown",
   "id": "b5a44b8b-3e63-4d9a-86a8-46f73a6a17f2",
   "metadata": {},
   "source": [
    "## Get one figure where total correlation and per-cell correlation are put together"
   ]
  },
  {
   "cell_type": "code",
   "execution_count": null,
   "id": "c27e0736-cfd2-4889-a785-3360ee1320a6",
   "metadata": {},
   "outputs": [],
   "source": [
    "ncols = 2\n",
    "fig, axs = plt.subplots(ncols=ncols, nrows=len(gene_numbers), \n",
    "                        figsize=(ncols*4, len(gene_numbers)*3))\n",
    "for i in range(1, len(gene_numbers)):\n",
    "    axs[i, 1].sharey(axs[0, 1])\n",
    "    axs[i, 1].sharex(axs[0, 1])\n",
    "axs_flat = axs.flatten()\n",
    "for ax in axs.flat:\n",
    "    ax.tick_params(axis='x', which='both', labelbottom=True)\n",
    "    ax.tick_params(axis='y', which='both', labelleft=True)\n",
    "\n",
    "for ind_ds, dataset in enumerate(datasets):\n",
    "    info = info_dss[dataset]\n",
    "    ax_row, ax_col = info['plt_coords']\n",
    "    ax = axs[ax_row, 0]\n",
    "    ax.set_title('|C| = {}, |G| = {}'.format(info['n_cell'], info['n_gene']))\n",
    "    ax = axs[ax_row, 1]\n",
    "    ax.set_title('|C| = {}, |G| = {}'.format(info['n_cell'], info['n_gene']))\n",
    "\n",
    "xlabels = ['True sq. Eucl. distance', 'Per-cell correlations (Pearson R^2)']\n",
    "ylabels = ['Bonsai summed branch lengths', 'Number of cells']\n",
    "for ax_row in range(len(gene_numbers)):\n",
    "    for ax_col in range(2):\n",
    "        ax = axs[ax_row, ax_col]\n",
    "        if (xlabels is not None) and (ax_row == (len(gene_numbers)-1)):\n",
    "            ax.set_xlabel(xlabels[ax_col])\n",
    "        if (ylabels is not None):\n",
    "            ax.set_ylabel(ylabels[ax_col])\n",
    "\n",
    "loglog_corr = False\n",
    "\n",
    "# Visualize the true distances\n",
    "for ind_ds, dataset in enumerate(datasets):\n",
    "    info = info_dss[dataset]\n",
    "    ax_row, ax_col = info['plt_coords']\n",
    "    ax = axs[ax_row, ax_col]\n",
    "    true_dists = pdists_true_dss[dataset]\n",
    "    bonsai_dists = bonsai_dists_dss[dataset]\n",
    "    ax.scatter(true_dists, bonsai_dists, s=2, alpha=0.5, color=info['color'])\n",
    "\n",
    "    if loglog_corr:\n",
    "        ax.set_xscale('log')\n",
    "        ax.set_yscale('log')\n",
    "        \n",
    "    nonzeros_true = true_dists != 0\n",
    "    nonzeros_data = bonsai_dists != 0\n",
    "    nonzeros_all = nonzeros_data * nonzeros_true\n",
    "\n",
    "    # Add correlation line\n",
    "    if loglog_corr:\n",
    "        log_truedists = true_dists.copy()\n",
    "        log_truedists[nonzeros_true] = np.log(true_dists[nonzeros_true])\n",
    "    else:\n",
    "        log_truedists = true_dists\n",
    "\n",
    "    if loglog_corr:\n",
    "        log_truedists_nonzeros_cell = log_truedists[nonzeros_all]\n",
    "        log_datadists_cell = np.log(bonsai_dists[nonzeros_all])\n",
    "    else:\n",
    "        log_truedists_nonzeros_cell = log_truedists\n",
    "        log_datadists_cell = bonsai_dists\n",
    "\n",
    "    Clog = np.cov(np.vstack((log_truedists_nonzeros_cell - np.mean(log_truedists_nonzeros_cell),\n",
    "                             log_datadists_cell - np.mean(log_datadists_cell))))\n",
    "    pearsonR = Clog[0, 1] / np.sqrt(Clog[0, 0] * Clog[1, 1])\n",
    "\n",
    "    eigVals, eigVecs = np.linalg.eig(Clog)\n",
    "    max_eigval = np.argmax(eigVals)\n",
    "    slopepca1log = eigVecs[1, max_eigval] / eigVecs[0, max_eigval]\n",
    "    regLineXlog = np.linspace(log_truedists_nonzeros_cell.min(), log_truedists_nonzeros_cell.max(), 20)\n",
    "    regLineYlog = slopepca1log * (\n",
    "            regLineXlog - log_truedists_nonzeros_cell.mean()) + log_datadists_cell.mean()\n",
    "\n",
    "    if loglog_corr:\n",
    "        # ax.plot(np.exp(regLineXlog), np.exp(regLineYlog), '--', lw=2, c='black', zorder=10)\n",
    "        ax.plot(np.exp(regLineXlog), np.exp(regLineXlog), '--', lw=2, c='black', zorder=10)\n",
    "    else:\n",
    "        # ax.plot(regLineXlog, regLineYlog, '--', lw=2, c='black', zorder=10)\n",
    "        ax.plot(regLineXlog, regLineXlog, '--', lw=2, c='black', zorder=10)\n",
    "    corr_measure = 'Rsq'\n",
    "    # corr_measure = '-log(1-R^2)'\n",
    "    if corr_measure == 'Rsq':\n",
    "        corr_label = pearsonR ** 2\n",
    "    elif corr_measure == '-log(1-R^2)':\n",
    "        corr_label = -np.log(1-pearsonR ** 2)\n",
    "    # ax.text(0.98, 0.01,\n",
    "    #              \"Slope: {:.2f},\\n{}={:.2f}\".format(slopepca1log, corr_measure, corr_label),\n",
    "    #              horizontalalignment='right', verticalalignment='bottom',\n",
    "    #              transform=ax.transAxes, fontsize=12)\n",
    "    ax.text(0.98, 0.01,\n",
    "             \"{}={:.2f}\".format(corr_measure, corr_label),\n",
    "             horizontalalignment='right', verticalalignment='bottom',\n",
    "             transform=ax.transAxes, fontsize=12)\n",
    "\n",
    "\n",
    "for ind_ds, dataset in enumerate(datasets):\n",
    "    info = info_dss[dataset]\n",
    "    ax_row, _ = info['plt_coords']\n",
    "    ax = axs[ax_row, 1]\n",
    "    bonsai_objct = bonsai_objcts_dss[dataset]\n",
    "    pearsonRs = bonsai_objct.pearsonRs\n",
    "    ax.hist(pearsonRs ** 2, bins=100, density=False, color=info['color'], log=False)\n",
    "\n",
    "plt.tight_layout()"
   ]
  },
  {
   "cell_type": "code",
   "execution_count": null,
   "id": "35cb5bca-a1c7-4b25-a565-9e43d29eb0e8",
   "metadata": {},
   "outputs": [],
   "source": [
    "fig.savefig(os.path.join(os.getcwd(), 'nonoise_dataset_accuracy_of_distance_estimates.png'), dpi=300)\n",
    "fig.savefig(os.path.join(os.getcwd(), 'nonoise_dataset_accuracy_of_distance_estimates.svg'))"
   ]
  },
  {
   "cell_type": "code",
   "execution_count": null,
   "id": "1e693651-f5a2-4482-a48c-324c1dae7736",
   "metadata": {},
   "outputs": [],
   "source": [
    "print(\"Stored figures at: {}\".format(os.path.join(os.getcwd(), 'nonoise_dataset_accuracy_of_distance_estimates.png')))"
   ]
  }
 ],
 "metadata": {
  "kernelspec": {
   "display_name": "Python (bonsai_analysis)",
   "language": "python",
   "name": "bonsai_analysis"
  },
  "language_info": {
   "codemirror_mode": {
    "name": "ipython",
    "version": 3
   },
   "file_extension": ".py",
   "mimetype": "text/x-python",
   "name": "python",
   "nbconvert_exporter": "python",
   "pygments_lexer": "ipython3",
   "version": "3.9.19"
  }
 },
 "nbformat": 4,
 "nbformat_minor": 5
}
