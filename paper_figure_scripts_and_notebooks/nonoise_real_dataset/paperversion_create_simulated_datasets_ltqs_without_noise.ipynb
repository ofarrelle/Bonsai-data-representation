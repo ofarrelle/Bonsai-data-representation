{
 "cells": [
  {
   "cell_type": "code",
   "execution_count": null,
   "id": "f0b4458a",
   "metadata": {},
   "outputs": [],
   "source": [
    "import pandas as pd\n",
    "import numpy as np\n",
    "import os\n",
    "import csv\n",
    "from itertools import product\n",
    "from pathlib import Path"
   ]
  },
  {
   "cell_type": "code",
   "execution_count": null,
   "id": "38f8e249",
   "metadata": {},
   "outputs": [],
   "source": [
    "# We read in the Sanity-inferred deltas for the CITE-seq dataset:\n",
    "input_folder = '/scicore/home/nimwegen/GROUP/Projects/bonsai_runs/paper_figures_datasets/hao_satija_2021_paper_figure/Sanity'\n",
    "deltas_path = os.path.join(input_folder, 'delta_vmax.txt')\n",
    "d_deltas_path = os.path.join(input_folder, 'd_delta_vmax.txt')\n",
    "cell_id_path = os.path.join(input_folder, 'cellID.txt')\n",
    "gene_id_path = os.path.join(input_folder, 'geneID.txt')\n",
    "variance_path = os.path.join(input_folder, 'variance_vmax.txt')\n",
    "\n",
    "\n",
    "deltas = pd.read_csv(deltas_path, sep='\\t', header=None).values.astype(dtype=float)\n",
    "d_deltas = pd.read_csv(d_deltas_path, sep='\\t', header=None).values.astype(dtype=float)\n",
    "variances = pd.read_csv(variance_path, sep='\\t', header=None).values.astype(dtype=float).flatten()"
   ]
  },
  {
   "cell_type": "code",
   "execution_count": null,
   "id": "244eeffc",
   "metadata": {},
   "outputs": [],
   "source": [
    "cell_ids = []\n",
    "with open(cell_id_path, 'r') as f:\n",
    "    reader = csv.reader(f, delimiter='\\t')\n",
    "    for row in reader:\n",
    "        cell_ids.append(row[0])\n",
    "        \n",
    "gene_ids = []\n",
    "with open(gene_id_path, 'r') as f:\n",
    "    reader = csv.reader(f, delimiter='\\t')\n",
    "    for row in reader:\n",
    "        gene_ids.append(row[0])"
   ]
  },
  {
   "cell_type": "markdown",
   "id": "304525d6",
   "metadata": {},
   "source": [
    "### Take subsets of the data with varying gene and cell numbers"
   ]
  },
  {
   "cell_type": "code",
   "execution_count": null,
   "id": "51cb19ec-23bf-48a1-a16f-b17e4073d63d",
   "metadata": {},
   "outputs": [],
   "source": [
    "n_cells = len(cell_ids)\n",
    "n_genes = len(gene_ids)"
   ]
  },
  {
   "cell_type": "code",
   "execution_count": null,
   "id": "faae809b-8194-45b9-bd7b-3a84b99806bf",
   "metadata": {},
   "outputs": [],
   "source": [
    "n_cells, n_genes"
   ]
  },
  {
   "cell_type": "code",
   "execution_count": null,
   "id": "40a4bb06",
   "metadata": {},
   "outputs": [],
   "source": [
    "cell_numbers = [1000]\n",
    "gene_numbers = [10, 100, 1000, 10000]"
   ]
  },
  {
   "cell_type": "code",
   "execution_count": null,
   "id": "316a87b9",
   "metadata": {},
   "outputs": [],
   "source": [
    "# Set a seed, then draw a random ordering of both cells and genes.\n",
    "# We will sample the first N of this list, such that the bigger models will contain the smaller models.\n",
    "rng = np.random.default_rng(seed=1231)\n",
    "cell_order = np.arange(n_cells)\n",
    "rng.shuffle(cell_order)"
   ]
  },
  {
   "cell_type": "code",
   "execution_count": null,
   "id": "310f7678-a799-46a3-b457-ae478abe3fd4",
   "metadata": {},
   "outputs": [],
   "source": [
    "# Order randomly\n",
    "delta_vars = d_deltas ** 2\n",
    "zscores = np.sqrt(np.sum((deltas - np.mean(deltas, axis=1, keepdims=True)) ** 2 / delta_vars, axis=1) / n_cells)\n",
    "# Order by zscore\n",
    "gene_order = np.argsort(-zscores)"
   ]
  },
  {
   "cell_type": "code",
   "execution_count": null,
   "id": "e6157884-f628-4497-b985-d8d011c2f111",
   "metadata": {},
   "outputs": [],
   "source": [
    "# Sample random genes with zscore > .1\n",
    "# gene_order = np.where(zscores > .1)[0]\n",
    "# rng.shuffle(gene_order)"
   ]
  },
  {
   "cell_type": "code",
   "execution_count": null,
   "id": "258c991d-bc13-4c7e-8337-cfb7753f9670",
   "metadata": {},
   "outputs": [],
   "source": [
    "np.random.seed(2462)\n",
    "# sampled_deltas = np.random.normal(deltas, d_deltas)\n",
    "sampled_deltas = deltas"
   ]
  },
  {
   "cell_type": "code",
   "execution_count": null,
   "id": "6bc3bef2",
   "metadata": {},
   "outputs": [],
   "source": [
    "ordered_deltas = sampled_deltas[gene_order, :][:, cell_order]\n",
    "ordered_cell_ids = [cell_ids[ind] for ind in cell_order]\n",
    "ordered_gene_ids = [gene_ids[ind] for ind in gene_order]\n",
    "d_deltas = np.ones_like(ordered_deltas) * 1e-6"
   ]
  },
  {
   "cell_type": "code",
   "execution_count": null,
   "id": "5c6b777f",
   "metadata": {},
   "outputs": [],
   "source": [
    "for cell_num, gene_num in product(cell_numbers, gene_numbers):\n",
    "    deltas_subset = ordered_deltas[:gene_num, :cell_num]\n",
    "    cell_ids_subset = ordered_cell_ids[:cell_num]\n",
    "    gene_ids_subset = ordered_gene_ids[:gene_num]\n",
    "    d_deltas_subset = d_deltas[:gene_num, :cell_num]\n",
    "    variance_subset = np.ones(gene_num)\n",
    "    \n",
    "    dataset_name = 'no_noise_nGene{}_nCell{}_zscoregenesnosampling'.format(gene_num, cell_num)\n",
    "    print(os.path.join('no_noise_simulated', dataset_name))\n",
    "    base_folder_name = '/scicore/home/nimwegen/degroo0000/Bonsai-data-representation/slurm_runs_pipeline/output/no_noise_simulated'\n",
    "    folder_name = os.path.join(base_folder_name, dataset_name, 'Sanity')\n",
    "    Path(folder_name).mkdir(parents=True, exist_ok=True)\n",
    "    np.savetxt(os.path.join(folder_name, \"delta_vmax.txt\"), deltas_subset, delimiter='\\t')\n",
    "    np.savetxt(os.path.join(folder_name, \"d_delta_vmax.txt\"), d_deltas_subset, delimiter='\\t')\n",
    "\n",
    "    means_subset = np.zeros_like(variance_subset)\n",
    "    with open(os.path.join(folder_name, 'mu_vmax.txt'), 'w') as f:\n",
    "        for mean in means_subset:\n",
    "            f.write(\"%s\\n\" % mean)\n",
    "    \n",
    "    with open(os.path.join(folder_name, 'variance_vmax.txt'), 'w') as f:\n",
    "        for var in variance_subset:\n",
    "            f.write(\"%s\\n\" % var)\n",
    "    \n",
    "    with open(os.path.join(folder_name, 'cellID.txt'), 'w') as f:\n",
    "        for ID in cell_ids_subset:\n",
    "            f.write(\"%s\\n\" % ID)\n",
    "\n",
    "    with open(os.path.join(folder_name, 'geneID.txt'), 'w') as f:\n",
    "        for ID in gene_ids_subset:\n",
    "            f.write(\"%s\\n\" % ID)"
   ]
  },
  {
   "cell_type": "code",
   "execution_count": null,
   "id": "8647ef8b-3b1e-48ab-8fc2-6fbacdc3838d",
   "metadata": {},
   "outputs": [],
   "source": [
    "len(gene_ids_subset)"
   ]
  }
 ],
 "metadata": {
  "kernelspec": {
   "display_name": "Python (bonsai_analysis)",
   "language": "python",
   "name": "bonsai_analysis"
  },
  "language_info": {
   "codemirror_mode": {
    "name": "ipython",
    "version": 3
   },
   "file_extension": ".py",
   "mimetype": "text/x-python",
   "name": "python",
   "nbconvert_exporter": "python",
   "pygments_lexer": "ipython3",
   "version": "3.9.19"
  }
 },
 "nbformat": 4,
 "nbformat_minor": 5
}
