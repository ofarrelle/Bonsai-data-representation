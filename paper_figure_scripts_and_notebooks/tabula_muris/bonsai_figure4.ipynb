{
 "cells": [
  {
   "cell_type": "code",
   "execution_count": null,
   "id": "ec529015",
   "metadata": {},
   "outputs": [],
   "source": [
    "import numpy as np\n",
    "import os\n",
    "import pandas as pd\n",
    "import sys\n",
    "import matplotlib.pyplot as plt\n",
    "import json\n",
    "\n",
    "import h5py\n",
    "import subprocess\n",
    "import pandas as pd\n",
    "import matplotlib.pyplot as plt\n",
    "import csv\n",
    "\n",
    "bnsi_path = '/scicore/home/nimwegen/degroo0000/Bonsai-data-representation'\n",
    "sys.path.append(bnsi_path)\n",
    "from bonsai_scout.bonsai_scout_helpers import Bonvis_figure, Bonvis_settings, Bonvis_metadata\n",
    "\n",
    "from downstream_analyses.average_over_groups import run_averaging"
   ]
  },
  {
   "cell_type": "markdown",
   "id": "2594798b",
   "metadata": {},
   "source": [
    "## Path to data"
   ]
  },
  {
   "cell_type": "code",
   "execution_count": null,
   "id": "163df492-b9fe-4257-9f93-d2f2f2ec7c0c",
   "metadata": {},
   "outputs": [],
   "source": [
    "path_to_output = \"/scicore/home/nimwegen/GROUP/Projects/bonsai_runs/bonsai_scout_public/Tabula_Muris\"\n",
    "bonsai_results = os.path.join(path_to_output, 'Bonsai')"
   ]
  },
  {
   "cell_type": "markdown",
   "id": "5be6e346",
   "metadata": {},
   "source": [
    "### Make first Bonsai tree"
   ]
  },
  {
   "cell_type": "code",
   "execution_count": null,
   "id": "15a16135-b408-4473-b7e7-c69b4223e671",
   "metadata": {},
   "outputs": [],
   "source": [
    "# %%capture  \n",
    "print(bonsai_results)\n",
    "################ TODO: maybe change path to bonsai results!!\n",
    "# data_path = os.path.join(bonsai_results, 'bonsai_vis_data-OLD.hdf')\n",
    "# settings_path = os.path.join(bonsai_results, 'bonsai_vis_settings-OLD.json')\n",
    "data_path = os.path.join(bonsai_results, 'bonsai_vis_data.hdf')\n",
    "settings_path = os.path.join(bonsai_results, 'bonsai_vis_settings.json')\n",
    "\n",
    "print(\"read in file: {}\".format(data_path))\n",
    "bonvis_metadata = Bonvis_metadata(data_path)\n",
    "bonvis_settings = Bonvis_settings(load_settings_path=settings_path)\n",
    "bonvis_data_hdf = h5py.File(data_path, 'r')\n",
    "bonvis_fig = Bonvis_figure(bonvis_data_hdf, \n",
    "                           bonvis_metadata, \n",
    "                           bonvis_data_path=data_path,\n",
    "                       bonvis_settings=bonvis_settings)\n",
    "celltype_info = bonvis_fig.bonvis_settings.celltype_info\n",
    "bonvis_fig.create_figure(figsize=(6, 6))"
   ]
  },
  {
   "cell_type": "code",
   "execution_count": null,
   "id": "02b2ecec-9f18-4410-9093-6d6a2c769681",
   "metadata": {},
   "outputs": [],
   "source": [
    "celltype_info.annot_infos"
   ]
  },
  {
   "cell_type": "code",
   "execution_count": null,
   "id": "53aefdb7",
   "metadata": {},
   "outputs": [],
   "source": [
    "# Here, we set the desired celltype-annotation for the dataset\n",
    "node_style = celltype_info.annot_infos['annot_tissue'].label\n",
    "\n",
    "# Visualize the tree in the equal-daylight layout, with the correct celltype-annotation\n",
    "bonvis_fig.update_figure(node_style=node_style, zoom=0.6597539553864471, ly_type = 'ly_eq_angle', geometry='hyperbolic')\n",
    "a = bonvis_fig.create_figure(figsize=(6, 6))"
   ]
  },
  {
   "cell_type": "code",
   "execution_count": null,
   "id": "d8239aea",
   "metadata": {},
   "outputs": [],
   "source": [
    "a.savefig(\"figures/bonsai_tabula_muris_tissue_annot.svg\")\n",
    "a.savefig(\"figures/bonsai_tabula_muris_tissue_annot.png\", dpi=300)"
   ]
  },
  {
   "cell_type": "markdown",
   "id": "61aa68cb",
   "metadata": {},
   "source": [
    "## Tree with liver cells highlighted"
   ]
  },
  {
   "cell_type": "code",
   "execution_count": null,
   "id": "72f2fbda",
   "metadata": {},
   "outputs": [],
   "source": [
    "myannot = \"annot_tissue\"\n",
    "sub='Liver'"
   ]
  },
  {
   "cell_type": "code",
   "execution_count": null,
   "id": "0dfeb929",
   "metadata": {},
   "outputs": [],
   "source": [
    "sub_idx1 = np.argwhere(np.array(celltype_info.annot_infos[myannot].cats) == sub)[0][0]\n",
    "selected_annot1 = celltype_info.annot_infos[myannot].cats[sub_idx1]\n",
    "print(selected_annot1)"
   ]
  },
  {
   "cell_type": "code",
   "execution_count": null,
   "id": "886e63be",
   "metadata": {},
   "outputs": [],
   "source": [
    "selected_subset1 = {'type': 'annot', \n",
    "                       'info': selected_annot1, \n",
    "                       'mask_is_on': True}"
   ]
  },
  {
   "cell_type": "code",
   "execution_count": null,
   "id": "b068fae3",
   "metadata": {},
   "outputs": [],
   "source": [
    "selected_subset = [selected_subset1]"
   ]
  },
  {
   "cell_type": "code",
   "execution_count": null,
   "id": "e24d2bfc",
   "metadata": {},
   "outputs": [],
   "source": [
    "bonvis_fig.set_mask_for_subset(selected_subset, \n",
    "                               curr_categorical_annot=celltype_info.annot_infos[myannot].label)\n",
    "bonvis_fig.update_figure(renew_mask=True)\n",
    "\n",
    "a = bonvis_fig.create_figure(figsize=(6, 6))"
   ]
  },
  {
   "cell_type": "code",
   "execution_count": null,
   "id": "14f7abb2-a56d-445a-9bbc-9d2c56844aa4",
   "metadata": {},
   "outputs": [],
   "source": [
    "# a.savefig(\"figures/bonsai_tabula_muris_liver_mask.svg\")\n",
    "# a.savefig(\"figures/bonsai_tabula_muris_liver_mask.png\", dpi=300)"
   ]
  },
  {
   "cell_type": "code",
   "execution_count": null,
   "id": "ddff18b6-6508-4bae-93fc-6af7e6865821",
   "metadata": {},
   "outputs": [],
   "source": [
    "bonvis_fig.set_mask_for_subset([{'type': None, 'info': None, 'mask_is_on': False}], \n",
    "                               curr_categorical_annot=celltype_info.annot_infos[myannot].label)\n",
    "bonvis_fig.update_figure(origin=np.array([0.35844828, -0.63362069]), renew_mask=True)\n",
    "a = bonvis_fig.create_figure(figsize=(6, 6))"
   ]
  },
  {
   "cell_type": "code",
   "execution_count": null,
   "id": "c03014bb",
   "metadata": {},
   "outputs": [],
   "source": [
    "a.savefig(\"figures/bonsai_tabula_muris_liver_focus.svg\")\n",
    "a.savefig(\"figures/bonsai_tabula_muris_liver_focus.png\", dpi=300)"
   ]
  },
  {
   "cell_type": "markdown",
   "id": "3a299e0f",
   "metadata": {},
   "source": [
    "### make legend for this"
   ]
  },
  {
   "cell_type": "code",
   "execution_count": null,
   "id": "5f78b966",
   "metadata": {},
   "outputs": [],
   "source": [
    "from matplotlib.cm import get_cmap\n",
    "from matplotlib.lines import Line2D"
   ]
  },
  {
   "cell_type": "code",
   "execution_count": null,
   "id": "db8b87e3",
   "metadata": {},
   "outputs": [],
   "source": [
    "# Define 13 categories\n",
    "categories = [\n",
    "\"Bladder\",\n",
    "\"Heart\",\n",
    "\"Kidney\",\n",
    "\"Liver\",\n",
    "\"Lung\",\n",
    "\"Mammary\",\n",
    "\"Marrow\",\n",
    "\"Muscle\",\n",
    "\"Spleen\",\n",
    "\"Thymus\",\n",
    "\"Tongue\",\n",
    "\"Trachea\"\n",
    "]\n",
    "\n",
    "# Get colors from the tab20 colormap\n",
    "cmap = get_cmap(\"tab20\")\n",
    "colors = [cmap(i / 20) for i in range(12)]  # Use the first 13 colors\n",
    "\n",
    "# Create legend elements\n",
    "legend_elements = [\n",
    "    Line2D([0], [0], marker='o', color='w', markerfacecolor=color, markersize=10, label=category)\n",
    "    for color, category in zip(colors, categories)\n",
    "]\n",
    "\n",
    "# Create a figure for the legend\n",
    "fig, ax = plt.subplots(figsize=(6, 3))  # Adjust size as needed\n",
    "ax.axis('off')  # Turn off the axis\n",
    "\n",
    "# Add legend to the figure\n",
    "legend = ax.legend(handles=legend_elements, loc='center', frameon=False, ncol=1, fontsize=10)\n",
    "\n",
    "# Save the figure as an SVG\n",
    "output_file = \"figures/bonsai_tabula_muris_tissue_legend.svg\"\n",
    "# plt.savefig(output_file, format=\"svg\", bbox_inches='tight')\n",
    "print(f\"Legend saved as {output_file}\")\n",
    "# Display the legend\n",
    "plt.show()"
   ]
  },
  {
   "cell_type": "markdown",
   "id": "5ac30ac7-73f1-411a-8234-6e74b299ef0a",
   "metadata": {},
   "source": [
    "## Get marker genes for subtree with only liver cells"
   ]
  },
  {
   "cell_type": "code",
   "execution_count": null,
   "id": "6cacbbae-9207-4011-b5de-e7c75594a2b8",
   "metadata": {},
   "outputs": [],
   "source": [
    "subset = {'type': 'subtree', 'info': (69624, 75562), 'mask_is_on': False}\n",
    "subtree_inds, _ = bonvis_fig.get_cell_inds_in_subset(subset, curr_categorical_annot=celltype_info.annot_infos[myannot].label, \n",
    "                                   return_vert_inds=False)\n",
    "subtree_inds"
   ]
  },
  {
   "cell_type": "code",
   "execution_count": null,
   "id": "a750977c-f6c1-4c2e-9c3a-e65099aa3eee",
   "metadata": {},
   "outputs": [],
   "source": [
    "sanity_out_path = os.path.join(path_to_output, 'Sanity')\n",
    "deltas_vg = np.load(os.path.join(path_to_output, \"Bonsai/final_bonsai_zscore1.0_tmpStartpremerged_cs_tree/posterior_ltqs_vertByGene.npy\"))\n",
    "d_deltas_sq_vg = np.load(os.path.join(path_to_output, \"Bonsai/final_bonsai_zscore1.0_tmpStartpremerged_cs_tree/posterior_ltqsVars_vertByGene.npy\"))"
   ]
  },
  {
   "cell_type": "code",
   "execution_count": null,
   "id": "1c94de4a-6659-4ead-8c91-63701d7d5386",
   "metadata": {},
   "outputs": [],
   "source": [
    "# cellIDs = pd.read_csv(os.path.join(sanity_out_path, \"cellID.txt\"), header=None, names=[\"cellID\"])\n",
    "# geneIDs = pd.read_csv(os.path.join(sanity_out_path, \"geneID.txt\"), header=None, names=[\"geneID\"])"
   ]
  },
  {
   "cell_type": "code",
   "execution_count": null,
   "id": "db23a946-d3f0-4ddc-811f-b03eba86e873",
   "metadata": {},
   "outputs": [],
   "source": [
    "cell_ind_to_vert_ind = bonvis_metadata.cell_info['cell_info_dict']['cell_ind_to_vert_ind']"
   ]
  },
  {
   "cell_type": "code",
   "execution_count": null,
   "id": "53161d85-d022-465c-9c02-0ed984383bf6",
   "metadata": {},
   "outputs": [],
   "source": [
    "deltas_cg = deltas_vg[np.array(cell_ind_to_vert_ind), :]\n",
    "d_deltas_sq_cg = d_deltas_sq_vg[np.array(cell_ind_to_vert_ind), :]"
   ]
  },
  {
   "cell_type": "code",
   "execution_count": null,
   "id": "8a8b558c-e363-4fe0-882d-7d2517977cf2",
   "metadata": {},
   "outputs": [],
   "source": [
    "clusters = {'liver clade': [], 'rest': []}\n",
    "for ind in range(bonvis_metadata.n_cells):\n",
    "    if ind in subtree_inds:\n",
    "        clusters['liver clade'].append(ind)\n",
    "    else:\n",
    "        clusters['rest'].append(ind)"
   ]
  },
  {
   "cell_type": "code",
   "execution_count": null,
   "id": "910a874b-6df2-4b10-bc6c-79877ddac059",
   "metadata": {},
   "outputs": [],
   "source": [
    "# run on deltas and d_delta\n",
    "avg_activities, avg_deltas, significance = run_averaging(activities=deltas_cg, \n",
    "                                                       deltas=np.sqrt(d_deltas_sq_cg), \n",
    "                                                       clusters=clusters, \n",
    "                                                       wms=bonvis_metadata.gene_ids)"
   ]
  },
  {
   "cell_type": "code",
   "execution_count": null,
   "id": "ee84684c-5378-43cf-bec8-5b355423185f",
   "metadata": {},
   "outputs": [],
   "source": [
    "zscores = np.sqrt((avg_activities.loc['liver clade', :] - avg_activities.loc['rest', :]) ** 2 / np.sum(avg_deltas ** 2, axis=0))"
   ]
  },
  {
   "cell_type": "code",
   "execution_count": null,
   "id": "f361e265-8ed8-4ad9-9e41-d8d6b371bf6e",
   "metadata": {},
   "outputs": [],
   "source": [
    "liver_markers = list(zscores.sort_values(ascending=False).index)\n",
    "liver_markers[:20]"
   ]
  },
  {
   "cell_type": "markdown",
   "id": "642b52ee",
   "metadata": {},
   "source": [
    "# Color by gene"
   ]
  },
  {
   "cell_type": "markdown",
   "id": "dedd1c0e",
   "metadata": {},
   "source": [
    "## Gene expression"
   ]
  },
  {
   "cell_type": "code",
   "execution_count": null,
   "id": "30181a4f",
   "metadata": {},
   "outputs": [],
   "source": [
    "all_genes_list = json.loads(bonvis_data_hdf['data/normalized'].attrs['gene_ids'])\n",
    "print(\"number of genes: {}\".format(len(all_genes_list)))"
   ]
  },
  {
   "cell_type": "code",
   "execution_count": null,
   "id": "f97200ed",
   "metadata": {},
   "outputs": [],
   "source": [
    "list(filter(lambda x: 'Gnmt' in x, all_genes_list))"
   ]
  },
  {
   "cell_type": "code",
   "execution_count": null,
   "id": "af0d79a0",
   "metadata": {},
   "outputs": [],
   "source": [
    "# create new bonvisfig\n",
    "gene = \"Gnmt\"\n",
    "\n",
    "data_path = os.path.join(bonsai_results, 'bonsai_vis_data.hdf')\n",
    "\n",
    "settings_path = os.path.join(bonsai_results, 'bonsai_vis_settings.json')\n",
    "print(\"read in file: {}\".format(data_path))\n",
    "bonvis_metadata = Bonvis_metadata(data_path)\n",
    "bonvis_settings = Bonvis_settings(load_settings_path=settings_path)\n",
    "bonvis_data_hdf = h5py.File(data_path, 'r')\n",
    "bonvis_fig = Bonvis_figure(bonvis_data_hdf, \n",
    "                           bonvis_metadata, \n",
    "                           bonvis_data_path=data_path,\n",
    "                       bonvis_settings=bonvis_settings)\n",
    "bonvis_fig.create_figure(figsize=(6, 6))\n",
    "\n",
    "\n",
    "bonvis_fig.bonvis_settings.node_style['feature_path'] = \"data/normalized\"\n",
    "# geometry = 'flat'\n",
    "# ly_type = 'ly_dendrogram'\n",
    "# ly_type = \"ly_dendrogram_ladderized\"\n",
    "ly_type = 'ly_eq_angle'\n",
    "node_style = celltype_info.annot_infos['annot_tissue'].label\n",
    "bonvis_fig.update_figure(zoom=0.6597539553864471, origin=np.array([0.35844828, -0.63362069]), node_style=gene, ly_type=ly_type, geometry='hyperbolic')\n",
    "outfig = bonvis_fig.create_figure(figsize=(6, 6))\n"
   ]
  },
  {
   "cell_type": "code",
   "execution_count": null,
   "id": "cd4c4038-2401-4729-8f86-9f303cf23c72",
   "metadata": {},
   "outputs": [],
   "source": [
    "outfig.savefig(\"figures/bonsai_tabula_muris_Gnmt_mrkr.svg\")\n",
    "outfig.savefig(\"figures/bonsai_tabula_muris_Gnmt_mrkr.png\", dpi=300)"
   ]
  },
  {
   "cell_type": "code",
   "execution_count": null,
   "id": "40dfb0e8-437a-484d-953b-3ab9676da132",
   "metadata": {},
   "outputs": [],
   "source": []
  }
 ],
 "metadata": {
  "kernelspec": {
   "display_name": "Python (bonsai_analysis)",
   "language": "python",
   "name": "bonsai_analysis"
  },
  "language_info": {
   "codemirror_mode": {
    "name": "ipython",
    "version": 3
   },
   "file_extension": ".py",
   "mimetype": "text/x-python",
   "name": "python",
   "nbconvert_exporter": "python",
   "pygments_lexer": "ipython3",
   "version": "3.9.19"
  }
 },
 "nbformat": 4,
 "nbformat_minor": 5
}
